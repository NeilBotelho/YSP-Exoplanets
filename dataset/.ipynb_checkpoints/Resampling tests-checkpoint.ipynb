{
 "cells": [
  {
   "cell_type": "markdown",
   "metadata": {},
   "source": [
    "# Undersampling"
   ]
  },
  {
   "cell_type": "markdown",
   "metadata": {},
   "source": [
    "## Imports:"
   ]
  },
  {
   "cell_type": "code",
   "execution_count": 1,
   "metadata": {},
   "outputs": [],
   "source": [
    "import pandas as pd\n",
    "import numpy as np\n",
    "from sklearn.preprocessing import StandardScaler\n",
    "from sklearn.decomposition import PCA\n",
    "from sklearn.model_selection import train_test_split\n",
    "from sklearn.utils import shuffle\n",
    "import math as m\n",
    "from sklearn.metrics import confusion_matrix\n",
    "from matplotlib import pyplot as plt\n",
    "\n"
   ]
  },
  {
   "cell_type": "markdown",
   "metadata": {},
   "source": [
    "## Make Preprocessed"
   ]
  },
  {
   "cell_type": "code",
   "execution_count": 9,
   "metadata": {},
   "outputs": [
    {
     "name": "stdout",
     "output_type": "stream",
     "text": [
      "0       0.0\n",
      "1       0.0\n",
      "2       0.0\n",
      "3       0.0\n",
      "4       0.0\n",
      "5       0.0\n",
      "6       0.0\n",
      "7       0.0\n",
      "8       0.0\n",
      "9       0.0\n",
      "10      0.0\n",
      "11      0.0\n",
      "12      0.0\n",
      "13      0.0\n",
      "14      0.0\n",
      "15      0.0\n",
      "16      0.0\n",
      "17      0.0\n",
      "18      0.0\n",
      "19      0.0\n",
      "20      0.0\n",
      "21      0.0\n",
      "22      0.0\n",
      "23      0.0\n",
      "24      0.0\n",
      "25      0.0\n",
      "26      0.0\n",
      "27      0.0\n",
      "28      0.0\n",
      "29      0.0\n",
      "       ... \n",
      "2999    0.0\n",
      "3000    0.0\n",
      "3001    0.0\n",
      "3002    0.0\n",
      "3003    0.0\n",
      "3004    0.0\n",
      "3005    0.0\n",
      "3006    0.0\n",
      "3007    0.0\n",
      "3008    0.0\n",
      "3009    0.0\n",
      "3010    0.0\n",
      "3011    0.0\n",
      "3012    0.0\n",
      "3013    0.0\n",
      "3014    0.0\n",
      "3015    0.0\n",
      "3016    0.0\n",
      "3017    0.0\n",
      "3018    0.0\n",
      "3019    0.0\n",
      "3020    0.0\n",
      "3021    0.0\n",
      "3022    0.0\n",
      "3023    0.0\n",
      "3024    0.0\n",
      "3025    0.0\n",
      "3026    0.0\n",
      "3027    0.0\n",
      "3028    0.0\n",
      "Name: habitable, Length: 3029, dtype: float64\n",
      "Done\n"
     ]
    }
   ],
   "source": [
    "exoData=pd.read_csv('simpleImputedMiceCart')\n",
    "\n",
    "habitableRows=[151, 152, 153, 1604, 2155, 2223, 2882, 3133, 3606, 3716, 3742,3743, 3744]\n",
    "\n",
    "#Store row ids and habitable series and remove for scaling \n",
    "habitable=exoData.row_id.isin(habitableRows).replace(True,1).rename('habitable')\n",
    "row_id=exoData.row_id\n",
    "data=exoData.drop('row_id',axis=1)\n",
    "scaledData=pd.DataFrame(StandardScaler().fit_transform(data),columns=data.columns)\n",
    "\n",
    "#KEEP 98% of variance get rid of other components using PCA\n",
    "pca = PCA().fit(scaledData)\n",
    "numComponents=0\n",
    "for n in np.cumsum(pca.explained_variance_ratio_):\n",
    "    if n<0.980:\n",
    "        numComponents+=1\n",
    "pca=PCA(n_components=numComponents).fit_transform(scaledData)\n",
    "\n",
    "#Get row_id, habitable back and shuffle\n",
    "preprocessed=pd.concat([row_id,pd.DataFrame(pca),habitable],axis=1)\n",
    "preprocessed=preprocessed[preprocessed.row_id!=3743]\n",
    "preprocessed=shuffle(preprocessed,random_state=100).reset_index()\n",
    "preprocessed=preprocessed.drop('index',axis=1)\n",
    "print('Done')"
   ]
  },
  {
   "cell_type": "code",
   "execution_count": 16,
   "metadata": {},
   "outputs": [],
   "source": [
    "def plot_2d_space(X, y, label='Classes'):   \n",
    "    colors = ['#1F77B4', '#FF7F0E']\n",
    "    markers = ['o', 's']\n",
    "    graphpca=PCA(n_components=2)\n",
    "    X=graphpca.fit_transform(X)\n",
    "    for l, c, m in zip(np.unique(y), colors, markers):\n",
    "        plt.scatter(\n",
    "            X[y==l, 0],\n",
    "            X[y==l, 1],\n",
    "            c=c, label=l, marker=m\n",
    "        )\n",
    "    plt.title(label)\n",
    "    plt.legend(loc='upper right')\n",
    "    plt.show()"
   ]
  },
  {
   "cell_type": "code",
   "execution_count": 33,
   "metadata": {},
   "outputs": [
    {
     "data": {
      "image/png": "[encoded data removed]",
      "text/plain": [
       "<Figure size 432x288 with 1 Axes>"
      ]
     },
     "metadata": {
      "needs_background": "light"
     },
     "output_type": "display_data"
    },
    {
     "data": {
      "image/png": "[encoded data removed]",
      "text/plain": [
       "<Figure size 432x288 with 1 Axes>"
      ]
     },
     "metadata": {
      "needs_background": "light"
     },
     "output_type": "display_data"
    }
   ],
   "source": [
    "from imblearn.over_sampling import SMOTE\n",
    "smote = SMOTE(ratio='minority')\n",
    "plot_2d_space(X, y, 'SMOTE over-sampling')\n",
    "X_sm, y_sm = smote.fit_sample(X, y)\n",
    "\n",
    "plot_2d_space(X_sm, y_sm, 'SMOTE over-sampling')"
   ]
  },
  {
   "cell_type": "code",
   "execution_count": 50,
   "metadata": {},
   "outputs": [
    {
     "data": {
      "text/plain": [
       "3017.0"
      ]
     },
     "execution_count": 50,
     "metadata": {},
     "output_type": "execute_result"
    }
   ],
   "source": [
    "len(X_sm)/2"
   ]
  },
  {
   "cell_type": "code",
   "execution_count": 51,
   "metadata": {},
   "outputs": [],
   "source": [
    "# #Split the processed dataset into non habitable and habitable so that we get a 20% habitable in the final test set\n",
    "# habitableExoplanets=preprocessed[preprocessed.habitable==1]\n",
    "# nonHabitableExoplanets=preprocessed[preprocessed.habitable==0]\n",
    "# trainCols=[x for x in habitableExoplanets.columns if x not in ['habitable','row_id']]\n",
    "\n",
    "# #habitable planets train test split\n",
    "# hTrainX,hTestX,hTrainY,hTestY=train_test_split(X_sm[y_sm==1,y)\n",
    "\n",
    "#nonhabitable planet train test split\n",
    "trainX, testX,trainY,testY=train_test_split(X_sm,y_sm)\n",
    "\n",
    "# #joining the 2 splits\n",
    "# trainX=pd.concat([trainX,hTrainX])\n",
    "# trainY=pd.concat([trainY,hTrainY])\n",
    "# testX=pd.concat([testX,hTestX])\n",
    "# testY=pd.concat([testY,hTestY])\n",
    "\n",
    "# # return trainX,testX,trainY,testY\n",
    "# X=preprocessed[trainCols]\n",
    "# y=preprocessed.habitable\n",
    "# print(\"Done\")"
   ]
  },
  {
   "cell_type": "code",
   "execution_count": null,
   "metadata": {},
   "outputs": [],
   "source": [
    "from sklearn.svm import SVC\n",
    "from sklearn.model_selection import GridSearchCV\n",
    "# from sklearn.metrics import accuracy_score\n",
    "\n",
    "kernel=['linear', 'poly', 'rbf', 'sigmoid', 'precomputed' ]\n",
    "degree=[1,2,3,4]\n",
    "C = [4000,2000,1000]\n",
    "gamma=['auto','scale']\n",
    "param_grid = dict(C=C,\n",
    "                  gamma=gamma,\n",
    "#                   kernel=kernel,\n",
    "                  degree=degree)\n",
    "SVC_GridSearch=GridSearchCV(SVC(),param_grid,scoring='accuracy',verbose=1,n_jobs=-1,cv=5)\n",
    "# print(\"running\")"
   ]
  },
  {
   "cell_type": "code",
   "execution_count": 100,
   "metadata": {},
   "outputs": [
    {
     "name": "stdout",
     "output_type": "stream",
     "text": [
      "Fitting 5 folds for each of 24 candidates, totalling 120 fits\n"
     ]
    },
    {
     "name": "stderr",
     "output_type": "stream",
     "text": [
      "[Parallel(n_jobs=-1)]: Using backend LokyBackend with 4 concurrent workers.\n",
      "[Parallel(n_jobs=-1)]: Done  42 tasks      | elapsed:    4.9s\n",
      "[Parallel(n_jobs=-1)]: Done 120 out of 120 | elapsed:   13.1s finished\n"
     ]
    },
    {
     "name": "stdout",
     "output_type": "stream",
     "text": [
      "0.9577417280671241\n",
      "0.9578392621870884\n",
      "0.9429312581063554\n",
      "0.9732262382864793\n",
      "0.9577417280671242\n"
     ]
    }
   ],
   "source": [
    "from sklearn.metrics import balanced_accuracy_score, f1_score, precision_score,recall_score,roc_auc_score\n",
    "SgridSearch=SVC_GridSearch.fit(trainX,trainY)\n",
    "Svc=SVC(kernel=kernel[0],degree=1,gamma='scale',C=0.1,verbose=False,random_state=100)\n",
    "Svc.fit(trainX,trainY)\n",
    "y_preds=Svc.predict(testX)\n",
    "print(balanced_accuracy_score(testY,y_preds))\n",
    "print(f1_score(testY,y_preds))\n",
    "print(precision_score(testY,y_preds))\n",
    "print(recall_score(testY,y_preds))\n",
    "print(roc_auc_score(testY,y_preds))"
   ]
  },
  {
   "cell_type": "code",
   "execution_count": 117,
   "metadata": {},
   "outputs": [],
   "source": [
    "Bestscores={'balanced_accuracy_score':[balanced_accuracy_score,-1,{}],\n",
    "                            'recall_score':[recall_score,-1,{}],\n",
    "                            'roc_auc_score':[roc_auc_score,-1,{}]}\n"
   ]
  },
  {
   "cell_type": "code",
   "execution_count": 121,
   "metadata": {},
   "outputs": [
    {
     "ename": "ValueError",
     "evalue": "C <= 0",
     "output_type": "error",
     "traceback": [
      "\u001b[0;31m---------------------------------------------------------------------------\u001b[0m",
      "\u001b[0;31mValueError\u001b[0m                                Traceback (most recent call last)",
      "\u001b[0;32m<ipython-input-121-238e5db63dee>\u001b[0m in \u001b[0;36m<module>\u001b[0;34m\u001b[0m\n\u001b[1;32m     19\u001b[0m             \u001b[0;32mfor\u001b[0m \u001b[0mk\u001b[0m \u001b[0;32min\u001b[0m \u001b[0mkernel\u001b[0m\u001b[0;34m:\u001b[0m\u001b[0;34m\u001b[0m\u001b[0;34m\u001b[0m\u001b[0m\n\u001b[1;32m     20\u001b[0m                 \u001b[0mtestSvc\u001b[0m\u001b[0;34m=\u001b[0m\u001b[0mSVC\u001b[0m\u001b[0;34m(\u001b[0m\u001b[0mC\u001b[0m\u001b[0;34m=\u001b[0m\u001b[0mc\u001b[0m\u001b[0;34m,\u001b[0m\u001b[0mkernel\u001b[0m\u001b[0;34m=\u001b[0m\u001b[0mk\u001b[0m\u001b[0;34m,\u001b[0m\u001b[0mdegree\u001b[0m\u001b[0;34m=\u001b[0m\u001b[0md\u001b[0m\u001b[0;34m,\u001b[0m\u001b[0mgamma\u001b[0m\u001b[0;34m=\u001b[0m\u001b[0mg\u001b[0m\u001b[0;34m)\u001b[0m\u001b[0;34m\u001b[0m\u001b[0;34m\u001b[0m\u001b[0m\n\u001b[0;32m---> 21\u001b[0;31m                 \u001b[0mtestSvc\u001b[0m\u001b[0;34m.\u001b[0m\u001b[0mfit\u001b[0m\u001b[0;34m(\u001b[0m\u001b[0mtrainX\u001b[0m\u001b[0;34m,\u001b[0m\u001b[0mtrainY\u001b[0m\u001b[0;34m)\u001b[0m\u001b[0;34m\u001b[0m\u001b[0;34m\u001b[0m\u001b[0m\n\u001b[0m\u001b[1;32m     22\u001b[0m                 \u001b[0my_preds\u001b[0m\u001b[0;34m=\u001b[0m\u001b[0mtestSvc\u001b[0m\u001b[0;34m.\u001b[0m\u001b[0mpredict\u001b[0m\u001b[0;34m(\u001b[0m\u001b[0mtestX\u001b[0m\u001b[0;34m)\u001b[0m\u001b[0;34m\u001b[0m\u001b[0;34m\u001b[0m\u001b[0m\n\u001b[1;32m     23\u001b[0m                 \u001b[0;32mfor\u001b[0m \u001b[0mscore_method\u001b[0m \u001b[0;32min\u001b[0m \u001b[0mBestscores\u001b[0m\u001b[0;34m:\u001b[0m\u001b[0;34m\u001b[0m\u001b[0;34m\u001b[0m\u001b[0m\n",
      "\u001b[0;32m~/anaconda3/lib/python3.7/site-packages/sklearn/svm/base.py\u001b[0m in \u001b[0;36mfit\u001b[0;34m(self, X, y, sample_weight)\u001b[0m\n\u001b[1;32m    210\u001b[0m \u001b[0;34m\u001b[0m\u001b[0m\n\u001b[1;32m    211\u001b[0m         \u001b[0mseed\u001b[0m \u001b[0;34m=\u001b[0m \u001b[0mrnd\u001b[0m\u001b[0;34m.\u001b[0m\u001b[0mrandint\u001b[0m\u001b[0;34m(\u001b[0m\u001b[0mnp\u001b[0m\u001b[0;34m.\u001b[0m\u001b[0miinfo\u001b[0m\u001b[0;34m(\u001b[0m\u001b[0;34m'i'\u001b[0m\u001b[0;34m)\u001b[0m\u001b[0;34m.\u001b[0m\u001b[0mmax\u001b[0m\u001b[0;34m)\u001b[0m\u001b[0;34m\u001b[0m\u001b[0;34m\u001b[0m\u001b[0m\n\u001b[0;32m--> 212\u001b[0;31m         \u001b[0mfit\u001b[0m\u001b[0;34m(\u001b[0m\u001b[0mX\u001b[0m\u001b[0;34m,\u001b[0m \u001b[0my\u001b[0m\u001b[0;34m,\u001b[0m \u001b[0msample_weight\u001b[0m\u001b[0;34m,\u001b[0m \u001b[0msolver_type\u001b[0m\u001b[0;34m,\u001b[0m \u001b[0mkernel\u001b[0m\u001b[0;34m,\u001b[0m \u001b[0mrandom_seed\u001b[0m\u001b[0;34m=\u001b[0m\u001b[0mseed\u001b[0m\u001b[0;34m)\u001b[0m\u001b[0;34m\u001b[0m\u001b[0;34m\u001b[0m\u001b[0m\n\u001b[0m\u001b[1;32m    213\u001b[0m         \u001b[0;31m# see comment on the other call to np.iinfo in this file\u001b[0m\u001b[0;34m\u001b[0m\u001b[0;34m\u001b[0m\u001b[0;34m\u001b[0m\u001b[0m\n\u001b[1;32m    214\u001b[0m \u001b[0;34m\u001b[0m\u001b[0m\n",
      "\u001b[0;32m~/anaconda3/lib/python3.7/site-packages/sklearn/svm/base.py\u001b[0m in \u001b[0;36m_dense_fit\u001b[0;34m(self, X, y, sample_weight, solver_type, kernel, random_seed)\u001b[0m\n\u001b[1;32m    269\u001b[0m                 \u001b[0mcache_size\u001b[0m\u001b[0;34m=\u001b[0m\u001b[0mself\u001b[0m\u001b[0;34m.\u001b[0m\u001b[0mcache_size\u001b[0m\u001b[0;34m,\u001b[0m \u001b[0mcoef0\u001b[0m\u001b[0;34m=\u001b[0m\u001b[0mself\u001b[0m\u001b[0;34m.\u001b[0m\u001b[0mcoef0\u001b[0m\u001b[0;34m,\u001b[0m\u001b[0;34m\u001b[0m\u001b[0;34m\u001b[0m\u001b[0m\n\u001b[1;32m    270\u001b[0m                 \u001b[0mgamma\u001b[0m\u001b[0;34m=\u001b[0m\u001b[0mself\u001b[0m\u001b[0;34m.\u001b[0m\u001b[0m_gamma\u001b[0m\u001b[0;34m,\u001b[0m \u001b[0mepsilon\u001b[0m\u001b[0;34m=\u001b[0m\u001b[0mself\u001b[0m\u001b[0;34m.\u001b[0m\u001b[0mepsilon\u001b[0m\u001b[0;34m,\u001b[0m\u001b[0;34m\u001b[0m\u001b[0;34m\u001b[0m\u001b[0m\n\u001b[0;32m--> 271\u001b[0;31m                 max_iter=self.max_iter, random_seed=random_seed)\n\u001b[0m\u001b[1;32m    272\u001b[0m \u001b[0;34m\u001b[0m\u001b[0m\n\u001b[1;32m    273\u001b[0m         \u001b[0mself\u001b[0m\u001b[0;34m.\u001b[0m\u001b[0m_warn_from_fit_status\u001b[0m\u001b[0;34m(\u001b[0m\u001b[0;34m)\u001b[0m\u001b[0;34m\u001b[0m\u001b[0;34m\u001b[0m\u001b[0m\n",
      "\u001b[0;32msklearn/svm/libsvm.pyx\u001b[0m in \u001b[0;36msklearn.svm.libsvm.fit\u001b[0;34m()\u001b[0m\n",
      "\u001b[0;31mValueError\u001b[0m: C <= 0"
     ]
    }
   ],
   "source": [
    "#SVC TEST\n",
    "from sklearn.metrics import balanced_accuracy_score, f1_score, precision_score,recall_score,roc_auc_score\n",
    "kernel=['linear', 'poly', 'rbf', 'sigmoid' ]\n",
    "degree=[1,2,3,4]\n",
    "C = [0.001,0.01,0,1,1,10,100,1000]\n",
    "gamma=['auto','scale']\n",
    "bestaccuracy=-1\n",
    "bestf1=-1\n",
    "bestprecision=-1\n",
    "bestrecall=-1\n",
    "bestrocauc=-1\n",
    "Bestscores={balanced_accuracy_score:['balanced_accuracy_score',-1,{}],\n",
    "                            recall_score:['recall_score',-1,{}],\n",
    "                            roc_auc_score:['roc_auc_score',-1,{}]}\n",
    "\n",
    "for c in C:\n",
    "    for g in gamma:\n",
    "        for d in degree:\n",
    "            for k in kernel:\n",
    "                testSvc=SVC(C=c,kernel=k,degree=d,gamma=g)\n",
    "                testSvc.fit(trainX,trainY)\n",
    "                y_preds=testSvc.predict(testX)\n",
    "                for score_method in Bestscores:\n",
    "                    currScore=score_method(testY,y_preds)\n",
    "                    if(currScore>Bestscores[score_method][1]):\n",
    "                        Bestscores[score_method][1]=currScore\n",
    "                        Bestscores[score_method][2]=testSvc.get_params()\n",
    "                    \n",
    "                \n",
    "for n in BestScores:\n",
    "    print(Bestscores[n][0],\" (\",Bestscores[n][1],\"):\\n\",Bestscores[n][2],\"\\n\\n\")"
   ]
  },
  {
   "cell_type": "code",
   "execution_count": null,
   "metadata": {},
   "outputs": [],
   "source": [
    "conf_mat = confusion_matrix(y_true=y_test, y_pred=y_pred)\n",
    "print('Confusion matrix:\\n', conf_mat)"
   ]
  }
 ],
 "metadata": {
  "kernelspec": {
   "display_name": "Python 3",
   "language": "python",
   "name": "python3"
  },
  "language_info": {
   "codemirror_mode": {
    "name": "ipython",
    "version": 3
   },
   "file_extension": ".py",
   "mimetype": "text/x-python",
   "name": "python",
   "nbconvert_exporter": "python",
   "pygments_lexer": "ipython3",
   "version": "3.7.3"
  }
 },
 "nbformat": 4,
 "nbformat_minor": 2
}
