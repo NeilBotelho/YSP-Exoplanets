{
 "cells": [
  {
   "cell_type": "code",
   "execution_count": 1,
   "metadata": {
    "_cell_guid": "b1076dfc-b9ad-4769-8c92-a6c4dae69d19",
    "_uuid": "8f2839f25d086af736a60e9eeb907d3b93b6e0e5"
   },
   "outputs": [
    {
     "name": "stderr",
     "output_type": "stream",
     "text": [
      "Using TensorFlow backend.\n"
     ]
    }
   ],
   "source": [
    "import pandas as pd\n",
    "import random as r\n",
    "from sklearn.metrics import balanced_accuracy_score\n",
    "from sklearn.svm import SVC\n",
    "from imblearn.over_sampling import SMOTE"
   ]
  },
  {
   "cell_type": "code",
   "execution_count": 2,
   "metadata": {
    "_cell_guid": "79c7e3d0-c299-4dcb-8224-4455121ee9b0",
    "_uuid": "d629ff2d2480ee46fbb7e2d37f6b5fab8052498a"
   },
   "outputs": [],
   "source": [
    "preprocessed=pd.read_csv(\"../input/finalexoplanetsdataset/PreprocessedDataset.csv\")\n",
    "habitableRows=list(preprocessed.rowid[preprocessed.habitable==True])"
   ]
  },
  {
   "cell_type": "code",
   "execution_count": 3,
   "metadata": {},
   "outputs": [],
   "source": [
    "import time\n",
    "begin=time.time()\n",
    "def prepareData():\n",
    "    #List of columns to be used for training\n",
    "    #it will be all columns in preprocessed except for \"habitable\" and \"rowid\"\n",
    "    trainCols=[x for x in preprocessed.columns if x not in ['habitable','rowid']]\n",
    "    validate=[]\n",
    "    Hcopy=habitableRows.copy()\n",
    "    #numHidden sets the number of habitable planets to use for validation of the model\n",
    "    numHidden=round(len(Hcopy)/2)\n",
    "\n",
    "    #Randomly select habitable exoplanets and \n",
    "    #add their row_id to validation set \n",
    "    print(\"Hiding \",numHidden,\" habitable(\",end=\"\")\n",
    "    for i in range(numHidden): \n",
    "        randNum=r.randint(0,len(Hcopy)-1)  \n",
    "        validate.append(Hcopy[randNum])\n",
    "        print(Hcopy[randNum],end=\",\")\n",
    "        del Hcopy[randNum]\n",
    "    print(\"\\b )\")\n",
    "\n",
    "    #Add row_id of non-habitable planets to the validation set till its length becomes 200\n",
    "    while len(validate)<200:\n",
    "        temp=r.randint(0,len(preprocessed)-1)\n",
    "        if temp not in habitableRows and temp not in validate:\n",
    "            validate.append(temp)\n",
    "\n",
    "    #Take all columns of the planets whose row_id is in \"validate\" variable(in the validation set) and\n",
    "    #store it in \"validate\" variable\n",
    "    validate=preprocessed[preprocessed.rowid.isin(validate)]\n",
    "\n",
    "    #Store the planets that are not in the validation set in the training set\n",
    "    trainingSet=preprocessed[~preprocessed.rowid.isin(validate.rowid)]\n",
    "\n",
    "    #Store the training features in X and target feature(habitable or not) in y \n",
    "    X=trainingSet[trainCols]\n",
    "    y=trainingSet.habitable\n",
    "\n",
    "    #the SMOTE library mutates existing data to creating more data\n",
    "    #Here we use SMOTE to increase the number of habitable planets in the training and validation data\n",
    "    smote = SMOTE(ratio='minority')\n",
    "    X_sm, y_sm = smote.fit_sample(X, y)\n",
    "    validateX,validateY=smote.fit_sample(validate[trainCols],validate.habitable)\n",
    "    return X_sm,y_sm,validateX,validateY"
   ]
  },
  {
   "cell_type": "markdown",
   "metadata": {},
   "source": [
    "# Effect of Random Seed on model\n",
    " Does changing the random seed during training but keeping the same dataset substantially change the outcome for this model?"
   ]
  },
  {
   "cell_type": "code",
   "execution_count": 4,
   "metadata": {},
   "outputs": [
    {
     "name": "stdout",
     "output_type": "stream",
     "text": [
      "Hiding  24  habitable(2135,2156,703,2503,3606,117,2155,2031,2547,128,1604,986,1205,3922,2223,2883,2014,3743,152,114,130,1227,2882,1137,\b )\n",
      "**********\n",
      "\n",
      "TEST NUMBER 1 Random Seed = 42\n",
      "BEST SCORE: 0.7556818181818181\n",
      "PARAMS: {'C': 0.001, 'cache_size': 200, 'class_weight': None, 'coef0': 0, 'decision_function_shape': 'ovo', 'degree': 1, 'gamma': 'auto', 'kernel': 'linear', 'max_iter': -1, 'probability': False, 'random_state': None, 'shrinking': True, 'tol': 1, 'verbose': False}\n",
      "**********\n",
      "\n",
      "TEST NUMBER 2 Random Seed = 52\n",
      "BEST SCORE: 0.7556818181818181\n",
      "PARAMS: {'C': 0.001, 'cache_size': 200, 'class_weight': None, 'coef0': 0, 'decision_function_shape': 'ovo', 'degree': 1, 'gamma': 'auto', 'kernel': 'linear', 'max_iter': -1, 'probability': False, 'random_state': None, 'shrinking': True, 'tol': 1, 'verbose': False}\n",
      "**********\n",
      "\n",
      "TEST NUMBER 3 Random Seed = 62\n",
      "BEST SCORE: 0.7556818181818181\n",
      "PARAMS: {'C': 0.001, 'cache_size': 200, 'class_weight': None, 'coef0': 0, 'decision_function_shape': 'ovo', 'degree': 1, 'gamma': 'auto', 'kernel': 'linear', 'max_iter': -1, 'probability': False, 'random_state': None, 'shrinking': True, 'tol': 1, 'verbose': False}\n",
      "**********\n",
      "\n",
      "TEST NUMBER 4 Random Seed = 72\n",
      "BEST SCORE: 0.7556818181818181\n",
      "PARAMS: {'C': 0.001, 'cache_size': 200, 'class_weight': None, 'coef0': 0, 'decision_function_shape': 'ovo', 'degree': 1, 'gamma': 'auto', 'kernel': 'linear', 'max_iter': -1, 'probability': False, 'random_state': None, 'shrinking': True, 'tol': 1, 'verbose': False}\n",
      "**********\n",
      "\n",
      "TEST NUMBER 5 Random Seed = 82\n",
      "BEST SCORE: 0.7556818181818181\n",
      "PARAMS: {'C': 0.001, 'cache_size': 200, 'class_weight': None, 'coef0': 0, 'decision_function_shape': 'ovo', 'degree': 1, 'gamma': 'auto', 'kernel': 'linear', 'max_iter': -1, 'probability': False, 'random_state': None, 'shrinking': True, 'tol': 1, 'verbose': False}\n"
     ]
    }
   ],
   "source": [
    "RandomSeed=42\n",
    "X_sm,y_sm,validateX,validateY=prepareData()\n",
    "coef=[0,0.1,0.01,0.001]\n",
    "degree=[1,2,3]\n",
    "C =[1,0.1,0.01,0.001]\n",
    "shrink=[True,False]\n",
    "decision_shape=['ovo','ovr']\n",
    "tol=[1,0.1,0.01,0.001]\n",
    "\n",
    "for testNumber in range(5):\n",
    "    print(\"*\"*10,end=\"\\n\\n\")\n",
    "    print(\"TEST NUMBER\",testNumber+1,\"Random Seed =\",RandomSeed)\n",
    "    Bestscores=[0,0]\n",
    "    r.seed(RandomSeed)\n",
    "    RandomSeed=RandomSeed+10\n",
    "    for c in C:\n",
    "        for dec in decision_shape:\n",
    "            for d in degree:\n",
    "                for co in coef:\n",
    "                    for t in tol:\n",
    "                        for s in shrink:\n",
    "                            model=SVC(C=c,coef0=co,tol=t,kernel='linear',degree=d,gamma='auto',shrinking=s,decision_function_shape=dec)\n",
    "                            model.fit(X_sm,y_sm)\n",
    "                            y_preds=model.predict(validateX)\n",
    "                            currScore=balanced_accuracy_score(validateY,y_preds)\n",
    "                            if(currScore>Bestscores[0]):\n",
    "                                Bestscores[0]=currScore\n",
    "                                Bestscores[1]=model.get_params()\n",
    "    print(\"BEST SCORE:\",str(Bestscores[0])+\"\\n\"+\"PARAMS:\",Bestscores[1])                            \n",
    "\n"
   ]
  },
  {
   "cell_type": "markdown",
   "metadata": {},
   "source": [
    "# Effect of changing random seed when preparing data on model"
   ]
  },
  {
   "cell_type": "code",
   "execution_count": 5,
   "metadata": {},
   "outputs": [
    {
     "name": "stdout",
     "output_type": "stream",
     "text": [
      "**********\n",
      "\n",
      "TEST NUMBER 1 Random Seed = 42\n",
      "Hiding  24  habitable(3233,163,117,2031,2014,1845,1137,703,3716,153,3922,2883,130,128,1205,2156,2223,151,2542,1604,3133,3115,3741,2880,\b )\n",
      "BEST SCORE: 0.8238636363636364\n",
      "PARAMS: {'C': 0.001, 'cache_size': 200, 'class_weight': None, 'coef0': 0, 'decision_function_shape': 'ovo', 'degree': 1, 'gamma': 'auto', 'kernel': 'linear', 'max_iter': -1, 'probability': False, 'random_state': None, 'shrinking': False, 'tol': 0.1, 'verbose': False}\n",
      "**********\n",
      "\n",
      "TEST NUMBER 2 Random Seed = 52\n",
      "Hiding  24  habitable(2014,130,3962,2882,2547,2189,2503,128,1137,1227,2883,1604,2541,3233,114,152,3132,3742,117,1424,163,1205,1845,2542,\b )\n",
      "BEST SCORE: 0.8238636363636364\n",
      "PARAMS: {'C': 0.001, 'cache_size': 200, 'class_weight': None, 'coef0': 0, 'decision_function_shape': 'ovo', 'degree': 1, 'gamma': 'auto', 'kernel': 'linear', 'max_iter': -1, 'probability': False, 'random_state': None, 'shrinking': False, 'tol': 0.1, 'verbose': False}\n",
      "**********\n",
      "\n",
      "TEST NUMBER 3 Random Seed = 62\n",
      "Hiding  24  habitable(2902,1147,151,2014,2547,2135,3962,2223,1205,3233,1424,1227,114,2156,1845,986,128,3744,2441,2541,117,3741,2129,3115,\b )\n",
      "BEST SCORE: 0.84375\n",
      "PARAMS: {'C': 0.001, 'cache_size': 200, 'class_weight': None, 'coef0': 0, 'decision_function_shape': 'ovo', 'degree': 1, 'gamma': 'auto', 'kernel': 'linear', 'max_iter': -1, 'probability': False, 'random_state': None, 'shrinking': True, 'tol': 1, 'verbose': False}\n",
      "**********\n",
      "\n",
      "TEST NUMBER 4 Random Seed = 72\n",
      "Hiding  24  habitable(151,3133,1205,2156,3962,3115,3742,2223,2129,3744,986,2316,2014,2547,1147,117,2097,3741,3132,114,2155,152,3716,1845,\b )\n",
      "BEST SCORE: 0.84375\n",
      "PARAMS: {'C': 0.001, 'cache_size': 200, 'class_weight': None, 'coef0': 0, 'decision_function_shape': 'ovo', 'degree': 1, 'gamma': 'auto', 'kernel': 'linear', 'max_iter': -1, 'probability': False, 'random_state': None, 'shrinking': True, 'tol': 1, 'verbose': False}\n",
      "**********\n",
      "\n",
      "TEST NUMBER 5 Random Seed = 82\n",
      "Hiding  24  habitable(986,2547,2882,2031,1205,1147,2097,1227,128,2902,3233,3962,163,2021,2441,1424,1137,3744,130,2883,2135,3742,2156,3743,\b )\n",
      "BEST SCORE: 0.84375\n",
      "PARAMS: {'C': 0.001, 'cache_size': 200, 'class_weight': None, 'coef0': 0, 'decision_function_shape': 'ovo', 'degree': 1, 'gamma': 'auto', 'kernel': 'linear', 'max_iter': -1, 'probability': False, 'random_state': None, 'shrinking': True, 'tol': 1, 'verbose': False}\n"
     ]
    }
   ],
   "source": [
    "RandomSeed=42\n",
    "Bestscores=[0,0]\n",
    "coef=[0,0.1,0.01,0.001]\n",
    "degree=[1,2,3]\n",
    "C =[1,0.1,0.01,0.001]\n",
    "shrink=[True,False]\n",
    "decision_shape=['ovo','ovr']\n",
    "tol=[1,0.1,0.01,0.001]\n",
    "\n",
    "for testNumber in range(5):\n",
    "    print(\"*\"*10,end=\"\\n\\n\")\n",
    "    print(\"TEST NUMBER\",testNumber+1,\"Random Seed =\",RandomSeed)\n",
    "    r.seed(RandomSeed)\n",
    "    RandomSeed=RandomSeed+10\n",
    "    X_sm,y_sm,validateX,validateY=prepareData()\n",
    "    for c in C:\n",
    "        for dec in decision_shape:\n",
    "            for d in degree:\n",
    "                for co in coef:\n",
    "                    for t in tol:\n",
    "                        for s in shrink:\n",
    "                            model=SVC(C=c,coef0=co,tol=t,kernel='linear',degree=d,gamma='auto',shrinking=s,decision_function_shape=dec)\n",
    "                            model.fit(X_sm,y_sm)\n",
    "                            y_preds=model.predict(validateX)\n",
    "                            currScore=balanced_accuracy_score(validateY,y_preds)\n",
    "                            if(currScore>Bestscores[0]):\n",
    "                                Bestscores[0]=currScore\n",
    "                                Bestscores[1]=model.get_params()\n",
    "    print(\"BEST SCORE:\",str(Bestscores[0])+\"\\n\"+\"PARAMS:\",Bestscores[1])                            \n",
    "\n"
   ]
  },
  {
   "cell_type": "code",
   "execution_count": 6,
   "metadata": {},
   "outputs": [
    {
     "name": "stdout",
     "output_type": "stream",
     "text": [
      "-15550.479897975922\n"
     ]
    }
   ],
   "source": [
    "end=time.time()\n",
    "print(begin-end)"
   ]
  }
 ],
 "metadata": {
  "kernelspec": {
   "display_name": "Python 3",
   "language": "python",
   "name": "python3"
  },
  "language_info": {
   "codemirror_mode": {
    "name": "ipython",
    "version": 3
   },
   "file_extension": ".py",
   "mimetype": "text/x-python",
   "name": "python",
   "nbconvert_exporter": "python",
   "pygments_lexer": "ipython3",
   "version": "3.7.3"
  }
 },
 "nbformat": 4,
 "nbformat_minor": 1
}
